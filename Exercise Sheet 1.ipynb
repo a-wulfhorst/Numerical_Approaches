{
 "cells": [
  {
   "cell_type": "markdown",
   "metadata": {},
   "source": [
    "# Numerical Approaches - Exercise Sheet 1\n",
    "\n",
    "group: Anne, Dante, Ximena\n",
    "\n",
    "## Exercise 1. Epsilon\n",
    "\n",
    "### a) \n",
    "\n",
    "This is the code as given: "
   ]
  },
  {
   "cell_type": "code",
   "execution_count": 2,
   "metadata": {
    "ExecuteTime": {
     "end_time": "2020-11-30T20:05:17.453073Z",
     "start_time": "2020-11-30T20:05:17.425213Z"
    }
   },
   "outputs": [
    {
     "name": "stdout",
     "output_type": "stream",
     "text": [
      "2.220446049250313e-16\n"
     ]
    }
   ],
   "source": [
    "#!/usr/bin/env python\n",
    "# -*- coding: utf-8 -*-\n",
    "\"\"\"\n",
    "NAME:      oldeps.py (module file)\n",
    "FUNCTION:  This module contains a function to calculate epsilon - the old way\n",
    "AUTHOR:    Joern Behrens, translated from Matlab to Python by Philipp Sommer, edited by JB.\n",
    "\"\"\"\n",
    "\n",
    "def oldeps():\n",
    "  \"\"\"\n",
    "  FUNCTION:  determine/estimate EPS like in the old times\n",
    "  SYNTAX:    oldeps()\n",
    "  REFERENCE: C. Moler: Numerical Computing with MATLAB, SIAM, 2004\n",
    "  VERSION:   1. original version\n",
    "  AUTHOR:    J. Behrens (behrens@ma.tum.de)\n",
    "  \"\"\"\n",
    "  ##--- switch to long format\n",
    "  #format long\n",
    "  \n",
    "  #--- this is the crucial calculation with roundoff\n",
    "  a= 4./ 3.\n",
    "  \n",
    "  #--- the rest can be done exactly in floating point representation\n",
    "  b= a- 1.\n",
    "  c= 3.* b\n",
    "  e= 1.- c\n",
    "\n",
    "  print(e)\n",
    "  return e\n",
    "\n",
    "#--- end of oldeps.m\n",
    "\n",
    "if __name__=='__main__':\n",
    "  oldeps()\n"
   ]
  },
  {
   "cell_type": "markdown",
   "metadata": {},
   "source": [
    "Here, the resulting machine epsilon is $\\epsilon_{\\text{old}} = 2.220446049250313 \\times 10^{-16}$. \n",
    "\n",
    "### b) \n",
    "\n",
    "Another way to calculate the machine epsilon: "
   ]
  },
  {
   "cell_type": "code",
   "execution_count": 4,
   "metadata": {
    "ExecuteTime": {
     "end_time": "2020-11-30T20:11:39.347544Z",
     "start_time": "2020-11-30T20:11:39.320565Z"
    }
   },
   "outputs": [
    {
     "data": {
      "text/plain": [
       "2.220446049250313e-16"
      ]
     },
     "execution_count": 4,
     "metadata": {},
     "output_type": "execute_result"
    }
   ],
   "source": [
    "def epsilon(): \n",
    "    \"\"\"\n",
    "    calculate machine epsilon\n",
    "    input: none\n",
    "    output: machine epsilon\n",
    "    \"\"\"\n",
    "    eps = 1 # initialise eps\n",
    "    while 1 + eps != 1: # while loop (as given by the definition of machine epsilon)\n",
    "        eps_final = eps # save current eps for return\n",
    "        eps = eps/2 # half eps and repeat\n",
    "    return eps_final # returned: smallest eps that still satisfies while condition\n",
    "\n",
    "epsilon() # returns the machine epsilon"
   ]
  },
  {
   "cell_type": "markdown",
   "metadata": {},
   "source": [
    "Here, the resulting machine epsilon is $\\epsilon_{\\text{new}} = 2.220446049250313 \\times 10^{-16}$. \n",
    "\n",
    "### c) \n",
    "\n",
    "Both machine epsilons are the same; $\\epsilon_{\\text{old}} = \\epsilon_{\\text{new}}$. \n",
    "\n",
    "\n",
    "\n",
    "In a previous version of the code we got $\\epsilon \\approx 1.1 \\times 10^{-16}$, or half of the correct value. This led us to correct the while loop. Per the definition of the machine epsilon given in the task, the machine epsilon is the last epsilon for which the while loop will execute. Therefore, `eps` mustn't be halved again during the last time the loop is executed. We solve this problem by introducing a  second variable `eps_final` as intermediate storage before halving `eps` itself. \n",
    "\n",
    "## Exercise 2. Linear System of Equations\n",
    "\n",
    "### a) \n",
    "\n",
    "For sufficiently small $h$, the forward finite difference is defined as\n",
    "\\begin{align}\n",
    "    (\\delta_+ f) := \\frac{f(x+h) - f(x)}{h} \n",
    "    \\label{eq:forward}\n",
    "\\end{align}\n",
    "and similarly the backward finite difference: \n",
    "\\begin{align}\n",
    "    (\\delta_- f) := \\frac{f(x) - f(x-h)}{h} \\quad. \n",
    "    \\label{eq:backward}\n",
    "\\end{align}\n",
    "Applying the forward finite difference \\eqref{eq:forward} to a function $u(x)$, we get\n",
    "\\begin{align*}\n",
    "    (\\delta_+ u) := \\frac{u(x+h) - u(x)}{h} \\quad. \n",
    "\\end{align*}\n",
    "Now we apply the backward finite difference \\eqref{eq:backward} to this result and get\n",
    "\\begin{align*}\n",
    "    \\delta_- (\\delta_+ u(x)) &= \\delta_- \\left( \\frac{u(x+h)}{h} \\right) - \\delta_- \\left( \\frac{u(x)}{h} \\right) \\\\\n",
    "    &= \\frac{u(x+h) - u(x)}{h^2} - \\frac{u(x) - u(x-h)}{h^2} \\\\\n",
    "    &= \\frac{u(x+h) - 2 u(x) + u(x-h)}{h^2} \\quad.      \n",
    "\\end{align*}\n",
    "Since we applied finite difference approximations twice, this results approximates the second derivative and we have\n",
    "\\begin{align}\n",
    "    \\frac{d^2 u}{d x^2} \\approx \\frac{1}{h^2} \\left[ u(x+h) - 2 u(x) + u(x-h) \\right]\n",
    "    \\label{eq:differential}\n",
    "\\end{align}\n",
    "as given in the task. \n",
    "\n",
    "### b) \n",
    "\n",
    "Our grid ranges from $a$ to $b$ with $N+1$ grid points and a grid size of $h = \\frac{b-a}{N}$. Therefore, our gridpoints are defined as $ x_i = a + i \\cdot h $\n",
    "with $h = \\frac{b-a}{N}$ and $i = 0, ..., N$ and endpoints $x_0 = a$ and $x_N = b$. \n",
    "\n",
    "### c) \n",
    "\n",
    "With the simplified notation $u(x_i) = u_i$ and the definition of the grid points, we can rewrite the discretised differential operator \\eqref{eq:differential} as\n",
    "\\begin{align*}\n",
    "    - \\frac{d^2 u}{d x^2} \\approx \\frac{1}{h^2} \\left[ - u_{i+1} + 2 u_i - u_{i-1} \\right] = g = -10\n",
    "\\end{align*}\n",
    "Translating this to a linear system of equations we get\n",
    "\n",
    "\\begin{align}\n",
    "    \\frac{1}{h^2}\\cdot \n",
    "    \\begin{pmatrix}\n",
    "    2  & -1 &  0 & \\dots  &  & & 0 \\\\\n",
    "    -1 & 2  & -1 & 0  &  \\dots  &   & 0 \\\\\n",
    "    0  & -1 & 2  & -1 &  0 & \\dots  & 0 \\\\\n",
    "    \\vdots & &   &    &    &   & \\vdots \\\\\n",
    "    0  &  \\dots &    &    & 0    & -1 & 2\n",
    "    \\end{pmatrix}\n",
    "    \\cdot\n",
    "    \\begin{pmatrix}\n",
    "    u_1 \\\\\n",
    "    u_2 \\\\\n",
    "    \\vdots\\\\\n",
    "    \\\\\n",
    "    u_{N-1}\n",
    "    \\end{pmatrix}\n",
    "    = \n",
    "    \\begin{pmatrix}\n",
    "    -10\\\\\n",
    "    \\vdots\\\\\n",
    "    \\\\\n",
    "    \\\\\n",
    "    -10\n",
    "    \\end{pmatrix}\n",
    "     \\label{eq:lse}\n",
    "\\end{align} \n",
    "\n",
    "where the matrix has a size $(N-1)\\cdot (N-1)$. \n",
    "\n",
    "### d)\n",
    "\n",
    "To solve the linear system of equations: "
   ]
  },
  {
   "cell_type": "code",
   "execution_count": 2,
   "metadata": {
    "ExecuteTime": {
     "end_time": "2020-11-30T20:45:05.585493Z",
     "start_time": "2020-11-30T20:45:05.232608Z"
    }
   },
   "outputs": [
    {
     "data": {
      "image/png": "[encoded data removed]",
      "text/plain": [
       "<Figure size 432x288 with 1 Axes>"
      ]
     },
     "metadata": {
      "needs_background": "light"
     },
     "output_type": "display_data"
    }
   ],
   "source": [
    "from numpy import *\n",
    "from numpy.linalg import solve\n",
    "import matplotlib.pyplot as plt\n",
    "\n",
    "# Number of grid points\n",
    "N = 100\n",
    "\n",
    "# Constants\n",
    "a = 0\n",
    "b = 1\n",
    "h = (b - a) / N\n",
    "\n",
    "# System of equations\n",
    "A = 2 * eye(N) - eye(N, k = 1) - eye(N, k = -1)\n",
    "g = repeat(-10 * h ** 2, N)\n",
    "u = solve(A, g)\n",
    "\n",
    "# Adding the values for u_0 and u_N\n",
    "u = insert(u, 0, 0)\n",
    "u = append(u, 0)\n",
    "\n",
    "# Plot\n",
    "x = linspace(0, 1, N+2)\n",
    "plt.plot(x, u)\n",
    "plt.xlabel(\"x\")\n",
    "plt.ylabel(\"u\")\n",
    "plt.title(\"Bridge\")\n",
    "plt.show()\n"
   ]
  },
  {
   "cell_type": "code",
   "execution_count": null,
   "metadata": {},
   "outputs": [],
   "source": []
  }
 ],
 "metadata": {
  "kernelspec": {
   "display_name": "Python 3",
   "language": "python",
   "name": "python3"
  },
  "language_info": {
   "codemirror_mode": {
    "name": "ipython",
    "version": 3
   },
   "file_extension": ".py",
   "mimetype": "text/x-python",
   "name": "python",
   "nbconvert_exporter": "python",
   "pygments_lexer": "ipython3",
   "version": "3.8.3"
  },
  "latex_envs": {
   "LaTeX_envs_menu_present": true,
   "autoclose": false,
   "autocomplete": true,
   "bibliofile": "biblio.bib",
   "cite_by": "apalike",
   "current_citInitial": 1,
   "eqLabelWithNumbers": true,
   "eqNumInitial": 1,
   "hotkeys": {
    "equation": "Ctrl-E",
    "itemize": "Ctrl-I"
   },
   "labels_anchors": false,
   "latex_user_defs": false,
   "report_style_numbering": false,
   "user_envs_cfg": false
  },
  "toc": {
   "base_numbering": 1,
   "nav_menu": {},
   "number_sections": false,
   "sideBar": true,
   "skip_h1_title": false,
   "title_cell": "Table of Contents",
   "title_sidebar": "Contents",
   "toc_cell": false,
   "toc_position": {},
   "toc_section_display": true,
   "toc_window_display": true
  }
 },
 "nbformat": 4,
 "nbformat_minor": 2
}
